{
 "cells": [
  {
   "cell_type": "markdown",
   "id": "0e00e66f",
   "metadata": {},
   "source": [
    "# Model training on Loan data"
   ]
  },
  {
   "cell_type": "code",
   "execution_count": 51,
   "id": "f072d3a1",
   "metadata": {},
   "outputs": [],
   "source": [
    "import numpy as np\n",
    "import pandas as pd\n",
    "\n",
    "import matplotlib.pyplot as plt\n",
    "import seaborn as sns\n",
    "\n",
    "from sklearn.linear_model import LogisticRegression\n",
    "from sklearn.model_selection import train_test_split\n",
    "\n",
    "from sklearn.metrics import accuracy_score,recall_score,precision_score,f1_score\n",
    "from sklearn.metrics import classification_report,confusion_matrix\n",
    "from sklearn.metrics import plot_confusion_matrix\n",
    "from sklearn.metrics import roc_curve\n",
    "from sklearn.metrics import auc\n",
    "\n",
    "import warnings\n",
    "warnings.filterwarnings(\"ignore\")\n",
    "\n",
    "import pickle\n",
    "import json"
   ]
  },
  {
   "cell_type": "markdown",
   "id": "d2dbb89a",
   "metadata": {},
   "source": [
    "# 1.Problem statement"
   ]
  },
  {
   "cell_type": "raw",
   "id": "d89d7803",
   "metadata": {},
   "source": [
    " Predict the loan amount with the help of machine learning supervised classification algorithm Logestisc regression"
   ]
  },
  {
   "cell_type": "markdown",
   "id": "a22086a1",
   "metadata": {},
   "source": [
    "# 2.Data gathering"
   ]
  },
  {
   "cell_type": "code",
   "execution_count": 52,
   "id": "56a8778b",
   "metadata": {},
   "outputs": [
    {
     "data": {
      "text/html": [
       "<div>\n",
       "<style scoped>\n",
       "    .dataframe tbody tr th:only-of-type {\n",
       "        vertical-align: middle;\n",
       "    }\n",
       "\n",
       "    .dataframe tbody tr th {\n",
       "        vertical-align: top;\n",
       "    }\n",
       "\n",
       "    .dataframe thead th {\n",
       "        text-align: right;\n",
       "    }\n",
       "</style>\n",
       "<table border=\"1\" class=\"dataframe\">\n",
       "  <thead>\n",
       "    <tr style=\"text-align: right;\">\n",
       "      <th></th>\n",
       "      <th>credit.policy</th>\n",
       "      <th>purpose</th>\n",
       "      <th>int.rate</th>\n",
       "      <th>installment</th>\n",
       "      <th>log.annual.inc</th>\n",
       "      <th>dti</th>\n",
       "      <th>fico</th>\n",
       "      <th>days.with.cr.line</th>\n",
       "      <th>revol.bal</th>\n",
       "      <th>revol.util</th>\n",
       "      <th>inq.last.6mths</th>\n",
       "      <th>delinq.2yrs</th>\n",
       "      <th>pub.rec</th>\n",
       "      <th>not.fully.paid</th>\n",
       "    </tr>\n",
       "  </thead>\n",
       "  <tbody>\n",
       "    <tr>\n",
       "      <th>0</th>\n",
       "      <td>1</td>\n",
       "      <td>debt_consolidation</td>\n",
       "      <td>0.1189</td>\n",
       "      <td>829.10</td>\n",
       "      <td>11.350407</td>\n",
       "      <td>19.48</td>\n",
       "      <td>737</td>\n",
       "      <td>5639.958333</td>\n",
       "      <td>28854</td>\n",
       "      <td>52.1</td>\n",
       "      <td>0</td>\n",
       "      <td>0</td>\n",
       "      <td>0</td>\n",
       "      <td>0</td>\n",
       "    </tr>\n",
       "    <tr>\n",
       "      <th>1</th>\n",
       "      <td>1</td>\n",
       "      <td>credit_card</td>\n",
       "      <td>0.1071</td>\n",
       "      <td>228.22</td>\n",
       "      <td>11.082143</td>\n",
       "      <td>14.29</td>\n",
       "      <td>707</td>\n",
       "      <td>2760.000000</td>\n",
       "      <td>33623</td>\n",
       "      <td>76.7</td>\n",
       "      <td>0</td>\n",
       "      <td>0</td>\n",
       "      <td>0</td>\n",
       "      <td>0</td>\n",
       "    </tr>\n",
       "    <tr>\n",
       "      <th>2</th>\n",
       "      <td>1</td>\n",
       "      <td>debt_consolidation</td>\n",
       "      <td>0.1357</td>\n",
       "      <td>366.86</td>\n",
       "      <td>10.373491</td>\n",
       "      <td>11.63</td>\n",
       "      <td>682</td>\n",
       "      <td>4710.000000</td>\n",
       "      <td>3511</td>\n",
       "      <td>25.6</td>\n",
       "      <td>1</td>\n",
       "      <td>0</td>\n",
       "      <td>0</td>\n",
       "      <td>0</td>\n",
       "    </tr>\n",
       "    <tr>\n",
       "      <th>3</th>\n",
       "      <td>1</td>\n",
       "      <td>debt_consolidation</td>\n",
       "      <td>0.1008</td>\n",
       "      <td>162.34</td>\n",
       "      <td>11.350407</td>\n",
       "      <td>8.10</td>\n",
       "      <td>712</td>\n",
       "      <td>2699.958333</td>\n",
       "      <td>33667</td>\n",
       "      <td>73.2</td>\n",
       "      <td>1</td>\n",
       "      <td>0</td>\n",
       "      <td>0</td>\n",
       "      <td>0</td>\n",
       "    </tr>\n",
       "    <tr>\n",
       "      <th>4</th>\n",
       "      <td>1</td>\n",
       "      <td>credit_card</td>\n",
       "      <td>0.1426</td>\n",
       "      <td>102.92</td>\n",
       "      <td>11.299732</td>\n",
       "      <td>14.97</td>\n",
       "      <td>667</td>\n",
       "      <td>4066.000000</td>\n",
       "      <td>4740</td>\n",
       "      <td>39.5</td>\n",
       "      <td>0</td>\n",
       "      <td>1</td>\n",
       "      <td>0</td>\n",
       "      <td>0</td>\n",
       "    </tr>\n",
       "    <tr>\n",
       "      <th>...</th>\n",
       "      <td>...</td>\n",
       "      <td>...</td>\n",
       "      <td>...</td>\n",
       "      <td>...</td>\n",
       "      <td>...</td>\n",
       "      <td>...</td>\n",
       "      <td>...</td>\n",
       "      <td>...</td>\n",
       "      <td>...</td>\n",
       "      <td>...</td>\n",
       "      <td>...</td>\n",
       "      <td>...</td>\n",
       "      <td>...</td>\n",
       "      <td>...</td>\n",
       "    </tr>\n",
       "    <tr>\n",
       "      <th>9573</th>\n",
       "      <td>0</td>\n",
       "      <td>all_other</td>\n",
       "      <td>0.1461</td>\n",
       "      <td>344.76</td>\n",
       "      <td>12.180755</td>\n",
       "      <td>10.39</td>\n",
       "      <td>672</td>\n",
       "      <td>10474.000000</td>\n",
       "      <td>215372</td>\n",
       "      <td>82.1</td>\n",
       "      <td>2</td>\n",
       "      <td>0</td>\n",
       "      <td>0</td>\n",
       "      <td>1</td>\n",
       "    </tr>\n",
       "    <tr>\n",
       "      <th>9574</th>\n",
       "      <td>0</td>\n",
       "      <td>all_other</td>\n",
       "      <td>0.1253</td>\n",
       "      <td>257.70</td>\n",
       "      <td>11.141862</td>\n",
       "      <td>0.21</td>\n",
       "      <td>722</td>\n",
       "      <td>4380.000000</td>\n",
       "      <td>184</td>\n",
       "      <td>1.1</td>\n",
       "      <td>5</td>\n",
       "      <td>0</td>\n",
       "      <td>0</td>\n",
       "      <td>1</td>\n",
       "    </tr>\n",
       "    <tr>\n",
       "      <th>9575</th>\n",
       "      <td>0</td>\n",
       "      <td>debt_consolidation</td>\n",
       "      <td>0.1071</td>\n",
       "      <td>97.81</td>\n",
       "      <td>10.596635</td>\n",
       "      <td>13.09</td>\n",
       "      <td>687</td>\n",
       "      <td>3450.041667</td>\n",
       "      <td>10036</td>\n",
       "      <td>82.9</td>\n",
       "      <td>8</td>\n",
       "      <td>0</td>\n",
       "      <td>0</td>\n",
       "      <td>1</td>\n",
       "    </tr>\n",
       "    <tr>\n",
       "      <th>9576</th>\n",
       "      <td>0</td>\n",
       "      <td>home_improvement</td>\n",
       "      <td>0.1600</td>\n",
       "      <td>351.58</td>\n",
       "      <td>10.819778</td>\n",
       "      <td>19.18</td>\n",
       "      <td>692</td>\n",
       "      <td>1800.000000</td>\n",
       "      <td>0</td>\n",
       "      <td>3.2</td>\n",
       "      <td>5</td>\n",
       "      <td>0</td>\n",
       "      <td>0</td>\n",
       "      <td>1</td>\n",
       "    </tr>\n",
       "    <tr>\n",
       "      <th>9577</th>\n",
       "      <td>0</td>\n",
       "      <td>debt_consolidation</td>\n",
       "      <td>0.1392</td>\n",
       "      <td>853.43</td>\n",
       "      <td>11.264464</td>\n",
       "      <td>16.28</td>\n",
       "      <td>732</td>\n",
       "      <td>4740.000000</td>\n",
       "      <td>37879</td>\n",
       "      <td>57.0</td>\n",
       "      <td>6</td>\n",
       "      <td>0</td>\n",
       "      <td>0</td>\n",
       "      <td>1</td>\n",
       "    </tr>\n",
       "  </tbody>\n",
       "</table>\n",
       "<p>9578 rows × 14 columns</p>\n",
       "</div>"
      ],
      "text/plain": [
       "      credit.policy             purpose  int.rate  installment  \\\n",
       "0                 1  debt_consolidation    0.1189       829.10   \n",
       "1                 1         credit_card    0.1071       228.22   \n",
       "2                 1  debt_consolidation    0.1357       366.86   \n",
       "3                 1  debt_consolidation    0.1008       162.34   \n",
       "4                 1         credit_card    0.1426       102.92   \n",
       "...             ...                 ...       ...          ...   \n",
       "9573              0           all_other    0.1461       344.76   \n",
       "9574              0           all_other    0.1253       257.70   \n",
       "9575              0  debt_consolidation    0.1071        97.81   \n",
       "9576              0    home_improvement    0.1600       351.58   \n",
       "9577              0  debt_consolidation    0.1392       853.43   \n",
       "\n",
       "      log.annual.inc    dti  fico  days.with.cr.line  revol.bal  revol.util  \\\n",
       "0          11.350407  19.48   737        5639.958333      28854        52.1   \n",
       "1          11.082143  14.29   707        2760.000000      33623        76.7   \n",
       "2          10.373491  11.63   682        4710.000000       3511        25.6   \n",
       "3          11.350407   8.10   712        2699.958333      33667        73.2   \n",
       "4          11.299732  14.97   667        4066.000000       4740        39.5   \n",
       "...              ...    ...   ...                ...        ...         ...   \n",
       "9573       12.180755  10.39   672       10474.000000     215372        82.1   \n",
       "9574       11.141862   0.21   722        4380.000000        184         1.1   \n",
       "9575       10.596635  13.09   687        3450.041667      10036        82.9   \n",
       "9576       10.819778  19.18   692        1800.000000          0         3.2   \n",
       "9577       11.264464  16.28   732        4740.000000      37879        57.0   \n",
       "\n",
       "      inq.last.6mths  delinq.2yrs  pub.rec  not.fully.paid  \n",
       "0                  0            0        0               0  \n",
       "1                  0            0        0               0  \n",
       "2                  1            0        0               0  \n",
       "3                  1            0        0               0  \n",
       "4                  0            1        0               0  \n",
       "...              ...          ...      ...             ...  \n",
       "9573               2            0        0               1  \n",
       "9574               5            0        0               1  \n",
       "9575               8            0        0               1  \n",
       "9576               5            0        0               1  \n",
       "9577               6            0        0               1  \n",
       "\n",
       "[9578 rows x 14 columns]"
      ]
     },
     "execution_count": 52,
     "metadata": {},
     "output_type": "execute_result"
    }
   ],
   "source": [
    "df=pd.read_csv(\"loan_data.csv\")\n",
    "df"
   ]
  },
  {
   "cell_type": "code",
   "execution_count": null,
   "id": "c329ba47",
   "metadata": {},
   "outputs": [],
   "source": []
  },
  {
   "cell_type": "markdown",
   "id": "08501179",
   "metadata": {},
   "source": [
    "# 3.EDA"
   ]
  },
  {
   "cell_type": "code",
   "execution_count": 53,
   "id": "d6646cc6",
   "metadata": {},
   "outputs": [
    {
     "data": {
      "text/plain": [
       "Index(['credit.policy', 'purpose', 'int.rate', 'installment', 'log.annual.inc',\n",
       "       'dti', 'fico', 'days.with.cr.line', 'revol.bal', 'revol.util',\n",
       "       'inq.last.6mths', 'delinq.2yrs', 'pub.rec', 'not.fully.paid'],\n",
       "      dtype='object')"
      ]
     },
     "execution_count": 53,
     "metadata": {},
     "output_type": "execute_result"
    }
   ],
   "source": [
    "df.columns"
   ]
  },
  {
   "cell_type": "code",
   "execution_count": 54,
   "id": "af37744a",
   "metadata": {},
   "outputs": [],
   "source": [
    "new_column_names={'credit.policy':'credit_policy', 'purpose':'purpose', 'int.rate':'int_rate', 'installment':'installment', \n",
    "                  'log.annual.inc':'log_annual_inc','dti':'dti', 'fico':'fico', 'days.with.cr.line':'days_with_cr_line', \n",
    "                  'revol.bal':'revol_bal','revol.util':'revol_util','inq.last.6mths':'inq_last_6mths',\n",
    "                  'delinq.2yrs':'delinq_2yrs', 'pub.rec':'pub_rec', 'not.fully.paid':'not_fully_paid'}"
   ]
  },
  {
   "cell_type": "code",
   "execution_count": 55,
   "id": "e3e38a0a",
   "metadata": {},
   "outputs": [],
   "source": [
    "df.rename(columns=new_column_names, inplace=True)\n"
   ]
  },
  {
   "cell_type": "code",
   "execution_count": 56,
   "id": "7bcaebaa",
   "metadata": {},
   "outputs": [
    {
     "name": "stdout",
     "output_type": "stream",
     "text": [
      "<class 'pandas.core.frame.DataFrame'>\n",
      "RangeIndex: 9578 entries, 0 to 9577\n",
      "Data columns (total 14 columns):\n",
      " #   Column             Non-Null Count  Dtype  \n",
      "---  ------             --------------  -----  \n",
      " 0   credit_policy      9578 non-null   int64  \n",
      " 1   purpose            9578 non-null   object \n",
      " 2   int_rate           9578 non-null   float64\n",
      " 3   installment        9578 non-null   float64\n",
      " 4   log_annual_inc     9578 non-null   float64\n",
      " 5   dti                9578 non-null   float64\n",
      " 6   fico               9578 non-null   int64  \n",
      " 7   days_with_cr_line  9578 non-null   float64\n",
      " 8   revol_bal          9578 non-null   int64  \n",
      " 9   revol_util         9578 non-null   float64\n",
      " 10  inq_last_6mths     9578 non-null   int64  \n",
      " 11  delinq_2yrs        9578 non-null   int64  \n",
      " 12  pub_rec            9578 non-null   int64  \n",
      " 13  not_fully_paid     9578 non-null   int64  \n",
      "dtypes: float64(6), int64(7), object(1)\n",
      "memory usage: 1.0+ MB\n"
     ]
    }
   ],
   "source": [
    "df.info()"
   ]
  },
  {
   "cell_type": "code",
   "execution_count": 57,
   "id": "eb06f91d",
   "metadata": {},
   "outputs": [
    {
     "data": {
      "text/plain": [
       "{'debt_consolidation': 3957,\n",
       " 'all_other': 2331,\n",
       " 'credit_card': 1262,\n",
       " 'home_improvement': 629,\n",
       " 'small_business': 619,\n",
       " 'major_purchase': 437,\n",
       " 'educational': 343}"
      ]
     },
     "execution_count": 57,
     "metadata": {},
     "output_type": "execute_result"
    }
   ],
   "source": [
    "df[\"purpose\"].value_counts().to_dict()"
   ]
  },
  {
   "cell_type": "markdown",
   "id": "6d673094",
   "metadata": {},
   "source": [
    "# 4.Feature Engineering"
   ]
  },
  {
   "cell_type": "code",
   "execution_count": 58,
   "id": "2cb2c9fc",
   "metadata": {},
   "outputs": [],
   "source": [
    "df=pd.get_dummies(df,columns=[\"purpose\"])"
   ]
  },
  {
   "cell_type": "code",
   "execution_count": 59,
   "id": "3d7f809a",
   "metadata": {},
   "outputs": [
    {
     "name": "stdout",
     "output_type": "stream",
     "text": [
      "<class 'pandas.core.frame.DataFrame'>\n",
      "RangeIndex: 9578 entries, 0 to 9577\n",
      "Data columns (total 20 columns):\n",
      " #   Column                      Non-Null Count  Dtype  \n",
      "---  ------                      --------------  -----  \n",
      " 0   credit_policy               9578 non-null   int64  \n",
      " 1   int_rate                    9578 non-null   float64\n",
      " 2   installment                 9578 non-null   float64\n",
      " 3   log_annual_inc              9578 non-null   float64\n",
      " 4   dti                         9578 non-null   float64\n",
      " 5   fico                        9578 non-null   int64  \n",
      " 6   days_with_cr_line           9578 non-null   float64\n",
      " 7   revol_bal                   9578 non-null   int64  \n",
      " 8   revol_util                  9578 non-null   float64\n",
      " 9   inq_last_6mths              9578 non-null   int64  \n",
      " 10  delinq_2yrs                 9578 non-null   int64  \n",
      " 11  pub_rec                     9578 non-null   int64  \n",
      " 12  not_fully_paid              9578 non-null   int64  \n",
      " 13  purpose_all_other           9578 non-null   uint8  \n",
      " 14  purpose_credit_card         9578 non-null   uint8  \n",
      " 15  purpose_debt_consolidation  9578 non-null   uint8  \n",
      " 16  purpose_educational         9578 non-null   uint8  \n",
      " 17  purpose_home_improvement    9578 non-null   uint8  \n",
      " 18  purpose_major_purchase      9578 non-null   uint8  \n",
      " 19  purpose_small_business      9578 non-null   uint8  \n",
      "dtypes: float64(6), int64(7), uint8(7)\n",
      "memory usage: 1.0 MB\n"
     ]
    }
   ],
   "source": [
    "df.info()"
   ]
  },
  {
   "cell_type": "code",
   "execution_count": 60,
   "id": "538a6eb5",
   "metadata": {},
   "outputs": [
    {
     "data": {
      "text/plain": [
       "0    8045\n",
       "1    1533\n",
       "Name: not_fully_paid, dtype: int64"
      ]
     },
     "execution_count": 60,
     "metadata": {},
     "output_type": "execute_result"
    }
   ],
   "source": [
    "df[\"not_fully_paid\"].value_counts()"
   ]
  },
  {
   "cell_type": "code",
   "execution_count": 61,
   "id": "63a325f0",
   "metadata": {},
   "outputs": [
    {
     "data": {
      "text/plain": [
       "<AxesSubplot:xlabel='credit_policy'>"
      ]
     },
     "execution_count": 61,
     "metadata": {},
     "output_type": "execute_result"
    },
    {
     "data": {
      "image/png": "[encoded data removed]",
      "text/plain": [
       "<Figure size 640x480 with 1 Axes>"
      ]
     },
     "metadata": {},
     "output_type": "display_data"
    }
   ],
   "source": [
    "sns.boxplot(df[\"credit_policy\"])"
   ]
  },
  {
   "cell_type": "code",
   "execution_count": 62,
   "id": "b53dff7c",
   "metadata": {},
   "outputs": [
    {
     "data": {
      "text/plain": [
       "<AxesSubplot:xlabel='int_rate'>"
      ]
     },
     "execution_count": 62,
     "metadata": {},
     "output_type": "execute_result"
    },
    {
     "data": {
      "image/png": "[encoded data removed]",
      "text/plain": [
       "<Figure size 640x480 with 1 Axes>"
      ]
     },
     "metadata": {},
     "output_type": "display_data"
    }
   ],
   "source": [
    "sns.boxplot(df[\"int_rate\"])"
   ]
  },
  {
   "cell_type": "code",
   "execution_count": 63,
   "id": "267695ca",
   "metadata": {},
   "outputs": [
    {
     "data": {
      "text/plain": [
       "<AxesSubplot:xlabel='log_annual_inc'>"
      ]
     },
     "execution_count": 63,
     "metadata": {},
     "output_type": "execute_result"
    },
    {
     "data": {
      "image/png": "[encoded data removed]",
      "text/plain": [
       "<Figure size 640x480 with 1 Axes>"
      ]
     },
     "metadata": {},
     "output_type": "display_data"
    }
   ],
   "source": [
    "sns.boxplot(df[\"log_annual_inc\"])"
   ]
  },
  {
   "cell_type": "code",
   "execution_count": 64,
   "id": "2f930e45",
   "metadata": {},
   "outputs": [
    {
     "name": "stdout",
     "output_type": "stream",
     "text": [
      "upper_tail: 12.39061201375\n",
      "lower_tail: 9.45909442375\n"
     ]
    },
    {
     "data": {
      "text/plain": [
       "<AxesSubplot:xlabel='log_annual_inc'>"
      ]
     },
     "execution_count": 64,
     "metadata": {},
     "output_type": "execute_result"
    },
    {
     "data": {
      "image/png": "[encoded data removed]",
      "text/plain": [
       "<Figure size 640x480 with 1 Axes>"
      ]
     },
     "metadata": {},
     "output_type": "display_data"
    }
   ],
   "source": [
    "q1=df[\"log_annual_inc\"].quantile(0.25)\n",
    "q2=df[\"log_annual_inc\"].quantile(0.50)\n",
    "q3=df[\"log_annual_inc\"].quantile(0.75)\n",
    "iqr=q3-q1\n",
    "upper_tail=q3+1.5*iqr\n",
    "lower_tail=q1-1.5*iqr\n",
    "print(\"upper_tail:\",upper_tail)\n",
    "print(\"lower_tail:\",lower_tail)\n",
    "df[\"log_annual_inc\"].loc[(df[\"log_annual_inc\"]>upper_tail)|(df[\"log_annual_inc\"]<lower_tail)]\n",
    "mean_normalize=df[\"log_annual_inc\"].loc[(df[\"log_annual_inc\"]<=upper_tail)&\n",
    "                                             (df[\"log_annual_inc\"]>=lower_tail)].mean()\n",
    "df.loc[(df[\"log_annual_inc\"]>upper_tail)|(df[\"log_annual_inc\"]<lower_tail)]=mean_normalize\n",
    "df[\"log_annual_inc\"].loc[(df[\"log_annual_inc\"]>upper_tail)|(df[\"log_annual_inc\"]<lower_tail)]\n",
    "sns.boxplot(df[\"log_annual_inc\"])"
   ]
  },
  {
   "cell_type": "code",
   "execution_count": 65,
   "id": "4a3b82b6",
   "metadata": {},
   "outputs": [
    {
     "data": {
      "text/plain": [
       "<AxesSubplot:xlabel='dti'>"
      ]
     },
     "execution_count": 65,
     "metadata": {},
     "output_type": "execute_result"
    },
    {
     "data": {
      "image/png": "[encoded data removed]",
      "text/plain": [
       "<Figure size 640x480 with 1 Axes>"
      ]
     },
     "metadata": {},
     "output_type": "display_data"
    }
   ],
   "source": [
    "sns.boxplot(df[\"dti\"])"
   ]
  },
  {
   "cell_type": "code",
   "execution_count": 66,
   "id": "e328c5a1",
   "metadata": {},
   "outputs": [
    {
     "data": {
      "text/plain": [
       "<AxesSubplot:xlabel='fico'>"
      ]
     },
     "execution_count": 66,
     "metadata": {},
     "output_type": "execute_result"
    },
    {
     "data": {
      "image/png": "[encoded data removed]",
      "text/plain": [
       "<Figure size 640x480 with 1 Axes>"
      ]
     },
     "metadata": {},
     "output_type": "display_data"
    }
   ],
   "source": [
    "sns.boxplot(df[\"fico\"])"
   ]
  },
  {
   "cell_type": "code",
   "execution_count": 67,
   "id": "85fb371e",
   "metadata": {},
   "outputs": [
    {
     "name": "stdout",
     "output_type": "stream",
     "text": [
      "upper_tail: 819.5\n",
      "lower_tail: 599.5\n"
     ]
    },
    {
     "data": {
      "text/plain": [
       "<AxesSubplot:xlabel='fico'>"
      ]
     },
     "execution_count": 67,
     "metadata": {},
     "output_type": "execute_result"
    },
    {
     "data": {
      "image/png": "[encoded data removed]",
      "text/plain": [
       "<Figure size 640x480 with 1 Axes>"
      ]
     },
     "metadata": {},
     "output_type": "display_data"
    }
   ],
   "source": [
    "q1=df[\"fico\"].quantile(0.25)\n",
    "q2=df[\"fico\"].quantile(0.50)\n",
    "q3=df[\"fico\"].quantile(0.75)\n",
    "iqr=q3-q1\n",
    "upper_tail=q3+1.5*iqr\n",
    "lower_tail=q1-1.5*iqr\n",
    "print(\"upper_tail:\",upper_tail)\n",
    "print(\"lower_tail:\",lower_tail)\n",
    "df[\"fico\"].loc[(df[\"fico\"]>upper_tail)|(df[\"fico\"]<lower_tail)]\n",
    "mean_normalize=df[\"fico\"].loc[(df[\"fico\"]<=upper_tail)&\n",
    "                                             (df[\"fico\"]>=lower_tail)].mean()\n",
    "df.loc[(df[\"fico\"]>upper_tail)|(df[\"fico\"]<lower_tail)]=mean_normalize\n",
    "df[\"fico\"].loc[(df[\"fico\"]>upper_tail)|(df[\"fico\"]<lower_tail)]\n",
    "sns.boxplot(df[\"fico\"])"
   ]
  },
  {
   "cell_type": "code",
   "execution_count": 68,
   "id": "7c7329d0",
   "metadata": {},
   "outputs": [
    {
     "data": {
      "text/plain": [
       "<AxesSubplot:xlabel='days_with_cr_line'>"
      ]
     },
     "execution_count": 68,
     "metadata": {},
     "output_type": "execute_result"
    },
    {
     "data": {
      "image/png": "[encoded data removed]",
      "text/plain": [
       "<Figure size 640x480 with 1 Axes>"
      ]
     },
     "metadata": {},
     "output_type": "display_data"
    }
   ],
   "source": [
    "sns.boxplot(df[\"days_with_cr_line\"])"
   ]
  },
  {
   "cell_type": "code",
   "execution_count": 69,
   "id": "335df152",
   "metadata": {},
   "outputs": [
    {
     "data": {
      "text/plain": [
       "<AxesSubplot:xlabel='revol_bal'>"
      ]
     },
     "execution_count": 69,
     "metadata": {},
     "output_type": "execute_result"
    },
    {
     "data": {
      "image/png": "[encoded data removed]",
      "text/plain": [
       "<Figure size 640x480 with 1 Axes>"
      ]
     },
     "metadata": {},
     "output_type": "display_data"
    }
   ],
   "source": [
    "sns.boxplot(df[\"revol_bal\"])"
   ]
  },
  {
   "cell_type": "code",
   "execution_count": 70,
   "id": "95320970",
   "metadata": {},
   "outputs": [
    {
     "name": "stdout",
     "output_type": "stream",
     "text": [
      "upper_tail: 40051.5\n",
      "lower_tail: -19378.5\n"
     ]
    },
    {
     "data": {
      "text/plain": [
       "<AxesSubplot:xlabel='revol_bal'>"
      ]
     },
     "execution_count": 70,
     "metadata": {},
     "output_type": "execute_result"
    },
    {
     "data": {
      "image/png": "[encoded data removed]",
      "text/plain": [
       "<Figure size 640x480 with 1 Axes>"
      ]
     },
     "metadata": {},
     "output_type": "display_data"
    }
   ],
   "source": [
    "q1=df[\"revol_bal\"].quantile(0.25)\n",
    "q2=df[\"revol_bal\"].quantile(0.50)\n",
    "q3=df[\"revol_bal\"].quantile(0.75)\n",
    "iqr=q3-q1\n",
    "upper_tail=q3+1.5*iqr\n",
    "lower_tail=q1-1.5*iqr\n",
    "print(\"upper_tail:\",upper_tail)\n",
    "print(\"lower_tail:\",lower_tail)\n",
    "df[\"revol_bal\"].loc[(df[\"revol_bal\"]>upper_tail)|(df[\"revol_bal\"]<lower_tail)]\n",
    "mean_normalize=df[\"revol_bal\"].loc[(df[\"revol_bal\"]<=upper_tail)&\n",
    "                                             (df[\"revol_bal\"]>=lower_tail)].mean()\n",
    "df.loc[(df[\"revol_bal\"]>upper_tail)|(df[\"revol_bal\"]<lower_tail)]=mean_normalize\n",
    "df[\"revol_bal\"].loc[(df[\"revol_bal\"]>upper_tail)|(df[\"revol_bal\"]<lower_tail)]\n",
    "sns.boxplot(df[\"revol_bal\"])"
   ]
  },
  {
   "cell_type": "code",
   "execution_count": 71,
   "id": "0d8065d3",
   "metadata": {},
   "outputs": [
    {
     "data": {
      "text/plain": [
       "<AxesSubplot:xlabel='revol_util'>"
      ]
     },
     "execution_count": 71,
     "metadata": {},
     "output_type": "execute_result"
    },
    {
     "data": {
      "image/png": "[encoded data removed]",
      "text/plain": [
       "<Figure size 640x480 with 1 Axes>"
      ]
     },
     "metadata": {},
     "output_type": "display_data"
    }
   ],
   "source": [
    "sns.boxplot(df[\"revol_util\"])"
   ]
  },
  {
   "cell_type": "code",
   "execution_count": 72,
   "id": "0f94d4a6",
   "metadata": {},
   "outputs": [
    {
     "data": {
      "text/plain": [
       "<AxesSubplot:xlabel='inq_last_6mths'>"
      ]
     },
     "execution_count": 72,
     "metadata": {},
     "output_type": "execute_result"
    },
    {
     "data": {
      "image/png": "[encoded data removed]",
      "text/plain": [
       "<Figure size 640x480 with 1 Axes>"
      ]
     },
     "metadata": {},
     "output_type": "display_data"
    }
   ],
   "source": [
    "sns.boxplot(df[\"inq_last_6mths\"])"
   ]
  },
  {
   "cell_type": "code",
   "execution_count": 73,
   "id": "3a578b33",
   "metadata": {},
   "outputs": [
    {
     "name": "stdout",
     "output_type": "stream",
     "text": [
      "upper_tail: 7.5\n",
      "lower_tail: -4.5\n"
     ]
    },
    {
     "data": {
      "text/plain": [
       "<AxesSubplot:xlabel='inq_last_6mths'>"
      ]
     },
     "execution_count": 73,
     "metadata": {},
     "output_type": "execute_result"
    },
    {
     "data": {
      "image/png": "[encoded data removed]",
      "text/plain": [
       "<Figure size 640x480 with 1 Axes>"
      ]
     },
     "metadata": {},
     "output_type": "display_data"
    }
   ],
   "source": [
    "q1=df[\"inq_last_6mths\"].quantile(0.25)\n",
    "q2=df[\"inq_last_6mths\"].quantile(0.50)\n",
    "q3=df[\"inq_last_6mths\"].quantile(0.75)\n",
    "iqr=q3-q1\n",
    "upper_tail=q3+1.5*iqr\n",
    "lower_tail=q1-1.5*iqr\n",
    "print(\"upper_tail:\",upper_tail)\n",
    "print(\"lower_tail:\",lower_tail)\n",
    "df[\"inq_last_6mths\"].loc[(df[\"inq_last_6mths\"]>upper_tail)|(df[\"inq_last_6mths\"]<lower_tail)]\n",
    "mean_normalize=df[\"inq_last_6mths\"].loc[(df[\"inq_last_6mths\"]<=upper_tail)&\n",
    "                                             (df[\"inq_last_6mths\"]>=lower_tail)].mean()\n",
    "df.loc[(df[\"inq_last_6mths\"]>upper_tail)|(df[\"inq_last_6mths\"]<lower_tail)]=mean_normalize\n",
    "df[\"inq_last_6mths\"].loc[(df[\"inq_last_6mths\"]>upper_tail)|(df[\"inq_last_6mths\"]<lower_tail)]\n",
    "sns.boxplot(df[\"inq_last_6mths\"])"
   ]
  },
  {
   "cell_type": "code",
   "execution_count": 74,
   "id": "cac1ebc8",
   "metadata": {},
   "outputs": [
    {
     "data": {
      "text/plain": [
       "<AxesSubplot:xlabel='delinq_2yrs'>"
      ]
     },
     "execution_count": 74,
     "metadata": {},
     "output_type": "execute_result"
    },
    {
     "data": {
      "image/png": "[encoded data removed]",
      "text/plain": [
       "<Figure size 640x480 with 1 Axes>"
      ]
     },
     "metadata": {},
     "output_type": "display_data"
    }
   ],
   "source": [
    "sns.boxplot(df[\"delinq_2yrs\"])"
   ]
  },
  {
   "cell_type": "code",
   "execution_count": 75,
   "id": "a3db0a7f",
   "metadata": {},
   "outputs": [
    {
     "name": "stdout",
     "output_type": "stream",
     "text": [
      "upper_tail: 0.0\n",
      "lower_tail: 0.0\n"
     ]
    },
    {
     "data": {
      "text/plain": [
       "<AxesSubplot:xlabel='delinq_2yrs'>"
      ]
     },
     "execution_count": 75,
     "metadata": {},
     "output_type": "execute_result"
    },
    {
     "data": {
      "image/png": "[encoded data removed]",
      "text/plain": [
       "<Figure size 640x480 with 1 Axes>"
      ]
     },
     "metadata": {},
     "output_type": "display_data"
    }
   ],
   "source": [
    "q1=df[\"delinq_2yrs\"].quantile(0.25)\n",
    "q2=df[\"delinq_2yrs\"].quantile(0.50)\n",
    "q3=df[\"delinq_2yrs\"].quantile(0.75)\n",
    "iqr=q3-q1\n",
    "upper_tail=q3+1.5*iqr\n",
    "lower_tail=q1-1.5*iqr\n",
    "print(\"upper_tail:\",upper_tail)\n",
    "print(\"lower_tail:\",lower_tail)\n",
    "df[\"delinq_2yrs\"].loc[(df[\"delinq_2yrs\"]>upper_tail)|(df[\"delinq_2yrs\"]<lower_tail)]\n",
    "mean_normalize=df[\"delinq_2yrs\"].loc[(df[\"delinq_2yrs\"]<=upper_tail)&\n",
    "                                             (df[\"delinq_2yrs\"]>=lower_tail)].mean()\n",
    "df.loc[(df[\"delinq_2yrs\"]>upper_tail)|(df[\"delinq_2yrs\"]<lower_tail)]=mean_normalize\n",
    "df[\"delinq_2yrs\"].loc[(df[\"delinq_2yrs\"]>upper_tail)|(df[\"delinq_2yrs\"]<lower_tail)]\n",
    "sns.boxplot(df[\"delinq_2yrs\"])"
   ]
  },
  {
   "cell_type": "code",
   "execution_count": 76,
   "id": "1559480f",
   "metadata": {},
   "outputs": [
    {
     "data": {
      "text/plain": [
       "<AxesSubplot:xlabel='pub_rec'>"
      ]
     },
     "execution_count": 76,
     "metadata": {},
     "output_type": "execute_result"
    },
    {
     "data": {
      "image/png": "[encoded data removed]",
      "text/plain": [
       "<Figure size 640x480 with 1 Axes>"
      ]
     },
     "metadata": {},
     "output_type": "display_data"
    }
   ],
   "source": [
    "sns.boxplot(df[\"pub_rec\"])"
   ]
  },
  {
   "cell_type": "code",
   "execution_count": 77,
   "id": "e551ead7",
   "metadata": {},
   "outputs": [
    {
     "name": "stdout",
     "output_type": "stream",
     "text": [
      "<class 'pandas.core.frame.DataFrame'>\n",
      "RangeIndex: 9578 entries, 0 to 9577\n",
      "Data columns (total 20 columns):\n",
      " #   Column                      Non-Null Count  Dtype  \n",
      "---  ------                      --------------  -----  \n",
      " 0   credit_policy               9578 non-null   float64\n",
      " 1   int_rate                    9578 non-null   float64\n",
      " 2   installment                 9578 non-null   float64\n",
      " 3   log_annual_inc              9578 non-null   float64\n",
      " 4   dti                         9578 non-null   float64\n",
      " 5   fico                        9578 non-null   float64\n",
      " 6   days_with_cr_line           9578 non-null   float64\n",
      " 7   revol_bal                   9578 non-null   float64\n",
      " 8   revol_util                  9578 non-null   float64\n",
      " 9   inq_last_6mths              9578 non-null   float64\n",
      " 10  delinq_2yrs                 9578 non-null   float64\n",
      " 11  pub_rec                     9578 non-null   float64\n",
      " 12  not_fully_paid              9578 non-null   float64\n",
      " 13  purpose_all_other           9578 non-null   float64\n",
      " 14  purpose_credit_card         9578 non-null   float64\n",
      " 15  purpose_debt_consolidation  9578 non-null   float64\n",
      " 16  purpose_educational         9578 non-null   float64\n",
      " 17  purpose_home_improvement    9578 non-null   float64\n",
      " 18  purpose_major_purchase      9578 non-null   float64\n",
      " 19  purpose_small_business      9578 non-null   float64\n",
      "dtypes: float64(20)\n",
      "memory usage: 1.5 MB\n"
     ]
    }
   ],
   "source": [
    "df.info()"
   ]
  },
  {
   "cell_type": "markdown",
   "id": "cc7ace2f",
   "metadata": {},
   "source": [
    "# 5.Feature Selection"
   ]
  },
  {
   "cell_type": "code",
   "execution_count": 78,
   "id": "d9bc3866",
   "metadata": {},
   "outputs": [],
   "source": [
    "x=df.drop(\"not_fully_paid\",axis=1)\n",
    "y=df[\"not_fully_paid\"]"
   ]
  },
  {
   "cell_type": "code",
   "execution_count": 79,
   "id": "bb75b0bb",
   "metadata": {},
   "outputs": [
    {
     "data": {
      "text/plain": [
       "0.0    8500\n",
       "1.0    1078\n",
       "Name: not_fully_paid, dtype: int64"
      ]
     },
     "execution_count": 79,
     "metadata": {},
     "output_type": "execute_result"
    }
   ],
   "source": [
    "df['not_fully_paid'].value_counts()"
   ]
  },
  {
   "cell_type": "code",
   "execution_count": 80,
   "id": "06cf5a63",
   "metadata": {},
   "outputs": [
    {
     "data": {
      "text/plain": [
       "<AxesSubplot:xlabel='not_fully_paid', ylabel='count'>"
      ]
     },
     "execution_count": 80,
     "metadata": {},
     "output_type": "execute_result"
    },
    {
     "data": {
      "image/png": "[encoded data removed]",
      "text/plain": [
       "<Figure size 640x480 with 1 Axes>"
      ]
     },
     "metadata": {},
     "output_type": "display_data"
    }
   ],
   "source": [
    "sns.countplot(x = df['not_fully_paid'])"
   ]
  },
  {
   "cell_type": "markdown",
   "id": "719e97f6",
   "metadata": {},
   "source": [
    "# 6.Model Building"
   ]
  },
  {
   "cell_type": "code",
   "execution_count": 81,
   "id": "dd16dc00",
   "metadata": {},
   "outputs": [],
   "source": [
    "x_train,x_test,y_train,y_test=train_test_split(x,y,test_size=0.25,random_state=10,stratify=y)"
   ]
  },
  {
   "cell_type": "code",
   "execution_count": 82,
   "id": "564c9e5d",
   "metadata": {},
   "outputs": [],
   "source": [
    "model=LogisticRegression()"
   ]
  },
  {
   "cell_type": "code",
   "execution_count": 83,
   "id": "77f2f93d",
   "metadata": {},
   "outputs": [
    {
     "data": {
      "text/plain": [
       "LogisticRegression()"
      ]
     },
     "execution_count": 83,
     "metadata": {},
     "output_type": "execute_result"
    }
   ],
   "source": [
    "model.fit(x_train,y_train)"
   ]
  },
  {
   "cell_type": "code",
   "execution_count": 84,
   "id": "aeb0cbc4",
   "metadata": {},
   "outputs": [
    {
     "data": {
      "text/plain": [
       "0.0    2125\n",
       "1.0     270\n",
       "Name: not_fully_paid, dtype: int64"
      ]
     },
     "execution_count": 84,
     "metadata": {},
     "output_type": "execute_result"
    }
   ],
   "source": [
    "y_test.value_counts()"
   ]
  },
  {
   "cell_type": "code",
   "execution_count": 85,
   "id": "c117a4df",
   "metadata": {},
   "outputs": [
    {
     "data": {
      "text/plain": [
       "0.0    6375\n",
       "1.0     808\n",
       "Name: not_fully_paid, dtype: int64"
      ]
     },
     "execution_count": 85,
     "metadata": {},
     "output_type": "execute_result"
    }
   ],
   "source": [
    "y_train.value_counts()"
   ]
  },
  {
   "cell_type": "markdown",
   "id": "41265bbd",
   "metadata": {},
   "source": [
    "# 7.Mode Evaluation"
   ]
  },
  {
   "cell_type": "code",
   "execution_count": 86,
   "id": "033ca3a8",
   "metadata": {},
   "outputs": [
    {
     "name": "stdout",
     "output_type": "stream",
     "text": [
      "Confusion Matrix:\n",
      " [[2051  230]\n",
      " [  74   40]]\n",
      "**************************************************\n",
      "Accuracy:\n",
      " 0.8730688935281837\n",
      "**************************************************\n",
      "Classification report:\n",
      "               precision    recall  f1-score   support\n",
      "\n",
      "         0.0       0.97      0.90      0.93      2281\n",
      "         1.0       0.15      0.35      0.21       114\n",
      "\n",
      "    accuracy                           0.87      2395\n",
      "   macro avg       0.56      0.63      0.57      2395\n",
      "weighted avg       0.93      0.87      0.90      2395\n",
      "\n"
     ]
    }
   ],
   "source": [
    "# Testing accuracy\n",
    "y_pred=model.predict(x_test)\n",
    "cnf_matrix=confusion_matrix(y_pred,y_test)\n",
    "accuracy=accuracy_score(y_pred,y_test)\n",
    "clf_report=classification_report(y_pred,y_test)\n",
    "print(\"Confusion Matrix:\\n\",cnf_matrix)\n",
    "print(\"*\"*50)\n",
    "print(\"Accuracy:\\n\",accuracy)\n",
    "print(\"*\"*50)\n",
    "print(\"Classification report:\\n\",clf_report)"
   ]
  },
  {
   "cell_type": "code",
   "execution_count": 87,
   "id": "ef72c06f",
   "metadata": {},
   "outputs": [
    {
     "data": {
      "text/plain": [
       "0.8730688935281837"
      ]
     },
     "execution_count": 87,
     "metadata": {},
     "output_type": "execute_result"
    }
   ],
   "source": [
    "model.score(x_test, y_test)"
   ]
  },
  {
   "cell_type": "code",
   "execution_count": 88,
   "id": "3ed6a6a3",
   "metadata": {},
   "outputs": [
    {
     "data": {
      "text/plain": [
       "<sklearn.metrics._plot.confusion_matrix.ConfusionMatrixDisplay at 0x1c2e59e81f0>"
      ]
     },
     "execution_count": 88,
     "metadata": {},
     "output_type": "execute_result"
    },
    {
     "data": {
      "image/png": "[encoded data removed]",
      "text/plain": [
       "<Figure size 640x480 with 2 Axes>"
      ]
     },
     "metadata": {},
     "output_type": "display_data"
    }
   ],
   "source": [
    "plot_confusion_matrix(model,x_test,y_test)"
   ]
  },
  {
   "cell_type": "code",
   "execution_count": 89,
   "id": "5b6a911d",
   "metadata": {},
   "outputs": [
    {
     "data": {
      "text/plain": [
       "array([[0.83683439, 0.16316561],\n",
       "       [0.86367204, 0.13632796],\n",
       "       [0.95292981, 0.04707019],\n",
       "       ...,\n",
       "       [0.92740607, 0.07259393],\n",
       "       [0.92622473, 0.07377527],\n",
       "       [0.94963462, 0.05036538]])"
      ]
     },
     "execution_count": 89,
     "metadata": {},
     "output_type": "execute_result"
    }
   ],
   "source": [
    "y_pred_prob=model.predict_proba(x_test)\n",
    "y_pred_prob"
   ]
  },
  {
   "cell_type": "code",
   "execution_count": 90,
   "id": "0ab77095",
   "metadata": {},
   "outputs": [
    {
     "name": "stdout",
     "output_type": "stream",
     "text": [
      "Confusion Matrix:\n",
      " [[6194  716]\n",
      " [ 181   92]]\n",
      "**************************************************\n",
      "Accuracy:\n",
      " 0.8751218153974663\n",
      "**************************************************\n",
      "Classification report:\n",
      "               precision    recall  f1-score   support\n",
      "\n",
      "         0.0       0.97      0.90      0.93      6910\n",
      "         1.0       0.11      0.34      0.17       273\n",
      "\n",
      "    accuracy                           0.88      7183\n",
      "   macro avg       0.54      0.62      0.55      7183\n",
      "weighted avg       0.94      0.88      0.90      7183\n",
      "\n"
     ]
    }
   ],
   "source": [
    "# Training accuracy\n",
    "y_pred_train=model.predict(x_train)\n",
    "cnf_matrix=confusion_matrix(y_pred_train,y_train)\n",
    "accuracy=accuracy_score(y_pred_train,y_train)\n",
    "clf_report=classification_report(y_pred_train,y_train)\n",
    "print(\"Confusion Matrix:\\n\",cnf_matrix)\n",
    "print(\"*\"*50)\n",
    "print(\"Accuracy:\\n\",accuracy)\n",
    "print(\"*\"*50)\n",
    "print(\"Classification report:\\n\",clf_report)"
   ]
  },
  {
   "cell_type": "code",
   "execution_count": 91,
   "id": "0caff29d",
   "metadata": {},
   "outputs": [
    {
     "data": {
      "text/plain": [
       "0.8751218153974663"
      ]
     },
     "execution_count": 91,
     "metadata": {},
     "output_type": "execute_result"
    }
   ],
   "source": [
    "model.score(x_train, y_train)"
   ]
  },
  {
   "cell_type": "code",
   "execution_count": 92,
   "id": "6e103df0",
   "metadata": {},
   "outputs": [
    {
     "data": {
      "text/plain": [
       "<sklearn.metrics._plot.confusion_matrix.ConfusionMatrixDisplay at 0x1c2e59d6970>"
      ]
     },
     "execution_count": 92,
     "metadata": {},
     "output_type": "execute_result"
    },
    {
     "data": {
      "image/png": "[encoded data removed]",
      "text/plain": [
       "<Figure size 640x480 with 2 Axes>"
      ]
     },
     "metadata": {},
     "output_type": "display_data"
    }
   ],
   "source": [
    "plot_confusion_matrix(model,x_train,y_train)"
   ]
  },
  {
   "cell_type": "code",
   "execution_count": 93,
   "id": "e67fa607",
   "metadata": {},
   "outputs": [
    {
     "data": {
      "text/plain": [
       "array([[0.90817372, 0.09182628],\n",
       "       [0.9283785 , 0.0716215 ],\n",
       "       [0.93792346, 0.06207654],\n",
       "       ...,\n",
       "       [0.78659666, 0.21340334],\n",
       "       [0.65284943, 0.34715057],\n",
       "       [0.78659666, 0.21340334]])"
      ]
     },
     "execution_count": 93,
     "metadata": {},
     "output_type": "execute_result"
    }
   ],
   "source": [
    "y_pred_prob=model.predict_proba(x_train)\n",
    "y_pred_prob"
   ]
  },
  {
   "cell_type": "code",
   "execution_count": 94,
   "id": "49c0e465",
   "metadata": {},
   "outputs": [],
   "source": [
    "# AUC-ROC"
   ]
  },
  {
   "cell_type": "code",
   "execution_count": 95,
   "id": "f11288fa",
   "metadata": {},
   "outputs": [],
   "source": [
    "y_pred_prob = model.predict_proba(x_train)   \n",
    "y_pred_prob[:,1]\n",
    "fpr, tpr, thresh = roc_curve(y_train, y_pred_prob[:,1])"
   ]
  },
  {
   "cell_type": "code",
   "execution_count": 96,
   "id": "451911b6",
   "metadata": {},
   "outputs": [
    {
     "data": {
      "text/plain": [
       "Text(0.5, 1.0, 'Reciever Operating Characteristics Curve')"
      ]
     },
     "execution_count": 96,
     "metadata": {},
     "output_type": "execute_result"
    },
    {
     "data": {
      "image/png": "[encoded data removed]",
      "text/plain": [
       "<Figure size 640x480 with 1 Axes>"
      ]
     },
     "metadata": {},
     "output_type": "display_data"
    }
   ],
   "source": [
    "plt.plot(fpr, tpr)\n",
    "\n",
    "plt.xlabel(\"False positive rate (FPR)\")\n",
    "plt.ylabel(\"True positive rate (TPR)\")\n",
    "plt.title(\"Reciever Operating Characteristics Curve\")"
   ]
  },
  {
   "cell_type": "code",
   "execution_count": 97,
   "id": "5e7a7899",
   "metadata": {},
   "outputs": [
    {
     "data": {
      "text/plain": [
       "0.5435496020190255"
      ]
     },
     "execution_count": 97,
     "metadata": {},
     "output_type": "execute_result"
    }
   ],
   "source": [
    "auc_value = auc(fpr, tpr)\n",
    "auc_value"
   ]
  },
  {
   "cell_type": "code",
   "execution_count": 98,
   "id": "a935c5fd",
   "metadata": {},
   "outputs": [
    {
     "data": {
      "text/html": [
       "<div>\n",
       "<style scoped>\n",
       "    .dataframe tbody tr th:only-of-type {\n",
       "        vertical-align: middle;\n",
       "    }\n",
       "\n",
       "    .dataframe tbody tr th {\n",
       "        vertical-align: top;\n",
       "    }\n",
       "\n",
       "    .dataframe thead th {\n",
       "        text-align: right;\n",
       "    }\n",
       "</style>\n",
       "<table border=\"1\" class=\"dataframe\">\n",
       "  <thead>\n",
       "    <tr style=\"text-align: right;\">\n",
       "      <th></th>\n",
       "      <th>0</th>\n",
       "    </tr>\n",
       "  </thead>\n",
       "  <tbody>\n",
       "    <tr>\n",
       "      <th>credit_policy</th>\n",
       "      <td>1.000000</td>\n",
       "    </tr>\n",
       "    <tr>\n",
       "      <th>int_rate</th>\n",
       "      <td>0.118900</td>\n",
       "    </tr>\n",
       "    <tr>\n",
       "      <th>installment</th>\n",
       "      <td>829.100000</td>\n",
       "    </tr>\n",
       "    <tr>\n",
       "      <th>log_annual_inc</th>\n",
       "      <td>11.350407</td>\n",
       "    </tr>\n",
       "    <tr>\n",
       "      <th>dti</th>\n",
       "      <td>19.480000</td>\n",
       "    </tr>\n",
       "    <tr>\n",
       "      <th>fico</th>\n",
       "      <td>737.000000</td>\n",
       "    </tr>\n",
       "    <tr>\n",
       "      <th>days_with_cr_line</th>\n",
       "      <td>5639.958333</td>\n",
       "    </tr>\n",
       "    <tr>\n",
       "      <th>revol_bal</th>\n",
       "      <td>28854.000000</td>\n",
       "    </tr>\n",
       "    <tr>\n",
       "      <th>revol_util</th>\n",
       "      <td>52.100000</td>\n",
       "    </tr>\n",
       "    <tr>\n",
       "      <th>inq_last_6mths</th>\n",
       "      <td>0.000000</td>\n",
       "    </tr>\n",
       "    <tr>\n",
       "      <th>delinq_2yrs</th>\n",
       "      <td>0.000000</td>\n",
       "    </tr>\n",
       "    <tr>\n",
       "      <th>pub_rec</th>\n",
       "      <td>0.000000</td>\n",
       "    </tr>\n",
       "    <tr>\n",
       "      <th>purpose_all_other</th>\n",
       "      <td>0.000000</td>\n",
       "    </tr>\n",
       "    <tr>\n",
       "      <th>purpose_credit_card</th>\n",
       "      <td>0.000000</td>\n",
       "    </tr>\n",
       "    <tr>\n",
       "      <th>purpose_debt_consolidation</th>\n",
       "      <td>1.000000</td>\n",
       "    </tr>\n",
       "    <tr>\n",
       "      <th>purpose_educational</th>\n",
       "      <td>0.000000</td>\n",
       "    </tr>\n",
       "    <tr>\n",
       "      <th>purpose_home_improvement</th>\n",
       "      <td>0.000000</td>\n",
       "    </tr>\n",
       "    <tr>\n",
       "      <th>purpose_major_purchase</th>\n",
       "      <td>0.000000</td>\n",
       "    </tr>\n",
       "    <tr>\n",
       "      <th>purpose_small_business</th>\n",
       "      <td>0.000000</td>\n",
       "    </tr>\n",
       "  </tbody>\n",
       "</table>\n",
       "</div>"
      ],
      "text/plain": [
       "                                       0\n",
       "credit_policy                   1.000000\n",
       "int_rate                        0.118900\n",
       "installment                   829.100000\n",
       "log_annual_inc                 11.350407\n",
       "dti                            19.480000\n",
       "fico                          737.000000\n",
       "days_with_cr_line            5639.958333\n",
       "revol_bal                   28854.000000\n",
       "revol_util                     52.100000\n",
       "inq_last_6mths                  0.000000\n",
       "delinq_2yrs                     0.000000\n",
       "pub_rec                         0.000000\n",
       "purpose_all_other               0.000000\n",
       "purpose_credit_card             0.000000\n",
       "purpose_debt_consolidation      1.000000\n",
       "purpose_educational             0.000000\n",
       "purpose_home_improvement        0.000000\n",
       "purpose_major_purchase          0.000000\n",
       "purpose_small_business          0.000000"
      ]
     },
     "execution_count": 98,
     "metadata": {},
     "output_type": "execute_result"
    }
   ],
   "source": [
    "x.head(1).T"
   ]
  },
  {
   "cell_type": "code",
   "execution_count": 99,
   "id": "93d41c94",
   "metadata": {},
   "outputs": [],
   "source": [
    "column_names=x.columns"
   ]
  },
  {
   "cell_type": "code",
   "execution_count": 100,
   "id": "08c8195d",
   "metadata": {},
   "outputs": [
    {
     "data": {
      "text/plain": [
       "19"
      ]
     },
     "execution_count": 100,
     "metadata": {},
     "output_type": "execute_result"
    }
   ],
   "source": [
    "len(column_names)"
   ]
  },
  {
   "cell_type": "code",
   "execution_count": 101,
   "id": "bdf32373",
   "metadata": {},
   "outputs": [],
   "source": [
    "with open(\"logestic_model.pkl\",\"wb\") as f:\n",
    "    pickle.dump(model,f)"
   ]
  },
  {
   "cell_type": "code",
   "execution_count": 102,
   "id": "81a788e3",
   "metadata": {},
   "outputs": [
    {
     "data": {
      "text/plain": [
       "{'columns': ['credit_policy',\n",
       "  'int_rate',\n",
       "  'installment',\n",
       "  'log_annual_inc',\n",
       "  'dti',\n",
       "  'fico',\n",
       "  'days_with_cr_line',\n",
       "  'revol_bal',\n",
       "  'revol_util',\n",
       "  'inq_last_6mths',\n",
       "  'delinq_2yrs',\n",
       "  'pub_rec',\n",
       "  'purpose_all_other',\n",
       "  'purpose_credit_card',\n",
       "  'purpose_debt_consolidation',\n",
       "  'purpose_educational',\n",
       "  'purpose_home_improvement',\n",
       "  'purpose_major_purchase',\n",
       "  'purpose_small_business']}"
      ]
     },
     "execution_count": 102,
     "metadata": {},
     "output_type": "execute_result"
    }
   ],
   "source": [
    "json_data={\"columns\":list(column_names)}\n",
    "json_data"
   ]
  },
  {
   "cell_type": "code",
   "execution_count": 103,
   "id": "63064da4",
   "metadata": {},
   "outputs": [],
   "source": [
    "with open(\"project_data.json\",\"w\") as f:\n",
    "    json.dump(json_data,f)"
   ]
  },
  {
   "cell_type": "code",
   "execution_count": 104,
   "id": "62c61542",
   "metadata": {},
   "outputs": [],
   "source": [
    "# Single User Input Testing"
   ]
  },
  {
   "cell_type": "code",
   "execution_count": 105,
   "id": "ef7865ba",
   "metadata": {},
   "outputs": [],
   "source": [
    "credit_policy=1.000000\n",
    "int_rate=0.118900\n",
    "installment=829.100000\n",
    "log_annual_inc=11.350407\n",
    "dti=19.480000\n",
    "fico=737.000000\n",
    "days_with_cr_line=5639.958333\n",
    "revol_bal=28854.000000\n",
    "revol_util=52.100000\n",
    "inq_last_6mths=0.000000\n",
    "delinq_2yrs=0.000000\n",
    "pub_rec=0.000000\n",
    "purpose=\"credit_card\"\n",
    "purpose=\"purpose_\"+purpose"
   ]
  },
  {
   "cell_type": "code",
   "execution_count": 108,
   "id": "da3c32c3",
   "metadata": {},
   "outputs": [],
   "source": [
    "purpose_index=list(column_names).index(purpose)"
   ]
  },
  {
   "cell_type": "code",
   "execution_count": 109,
   "id": "719f653b",
   "metadata": {},
   "outputs": [
    {
     "data": {
      "text/plain": [
       "19"
      ]
     },
     "execution_count": 109,
     "metadata": {},
     "output_type": "execute_result"
    }
   ],
   "source": [
    "x.shape[1]"
   ]
  },
  {
   "cell_type": "code",
   "execution_count": 110,
   "id": "30f3d537",
   "metadata": {},
   "outputs": [
    {
     "data": {
      "text/plain": [
       "['credit_policy',\n",
       " 'int_rate',\n",
       " 'installment',\n",
       " 'log_annual_inc',\n",
       " 'dti',\n",
       " 'fico',\n",
       " 'days_with_cr_line',\n",
       " 'revol_bal',\n",
       " 'revol_util',\n",
       " 'inq_last_6mths',\n",
       " 'delinq_2yrs',\n",
       " 'pub_rec',\n",
       " 'purpose_all_other',\n",
       " 'purpose_credit_card',\n",
       " 'purpose_debt_consolidation',\n",
       " 'purpose_educational',\n",
       " 'purpose_home_improvement',\n",
       " 'purpose_major_purchase',\n",
       " 'purpose_small_business']"
      ]
     },
     "execution_count": 110,
     "metadata": {},
     "output_type": "execute_result"
    }
   ],
   "source": [
    "json_data[\"columns\"]"
   ]
  },
  {
   "cell_type": "code",
   "execution_count": 111,
   "id": "89b9b9b9",
   "metadata": {},
   "outputs": [
    {
     "data": {
      "text/plain": [
       "array([0., 0., 0., 0., 0., 0., 0., 0., 0., 0., 0., 0., 0., 0., 0., 0., 0.,\n",
       "       0., 0.])"
      ]
     },
     "execution_count": 111,
     "metadata": {},
     "output_type": "execute_result"
    }
   ],
   "source": [
    "test_array=np.zeros(len(column_names))\n",
    "test_array"
   ]
  },
  {
   "cell_type": "code",
   "execution_count": 112,
   "id": "76dd1183",
   "metadata": {},
   "outputs": [],
   "source": [
    "test_array=np.zeros(len(column_names))\n",
    "test_array[0]=credit_policy\n",
    "test_array[1]=int_rate\n",
    "test_array[2]=installment\n",
    "test_array[3]=log_annual_inc\n",
    "test_array[4]=dti\n",
    "test_array[5]=fico\n",
    "test_array[6]=days_with_cr_line\n",
    "test_array[7]=revol_bal\n",
    "test_array[8]=revol_util\n",
    "test_array[9]=inq_last_6mths\n",
    "test_array[10]=delinq_2yrs\n",
    "test_array[11]=pub_rec\n",
    "test_array[purpose_index]=1"
   ]
  },
  {
   "cell_type": "code",
   "execution_count": 113,
   "id": "00d35b35",
   "metadata": {},
   "outputs": [],
   "source": [
    "charges=round(model.predict([test_array])[0],2)"
   ]
  },
  {
   "cell_type": "code",
   "execution_count": 114,
   "id": "8053082a",
   "metadata": {},
   "outputs": [
    {
     "name": "stdout",
     "output_type": "stream",
     "text": [
      "Your Loan Is appruved\n"
     ]
    }
   ],
   "source": [
    "if charges==1:\n",
    "    print(\"you have some amount left contact to branch immediately\")\n",
    "else:\n",
    "    print(\"Your Loan Is appruved\")"
   ]
  },
  {
   "cell_type": "code",
   "execution_count": null,
   "id": "ce15dc97",
   "metadata": {},
   "outputs": [],
   "source": []
  },
  {
   "cell_type": "code",
   "execution_count": null,
   "id": "410ba741",
   "metadata": {},
   "outputs": [],
   "source": []
  }
 ],
 "metadata": {
  "kernelspec": {
   "display_name": "Python 3 (ipykernel)",
   "language": "python",
   "name": "python3"
  },
  "language_info": {
   "codemirror_mode": {
    "name": "ipython",
    "version": 3
   },
   "file_extension": ".py",
   "mimetype": "text/x-python",
   "name": "python",
   "nbconvert_exporter": "python",
   "pygments_lexer": "ipython3",
   "version": "3.9.13"
  }
 },
 "nbformat": 4,
 "nbformat_minor": 5
}
